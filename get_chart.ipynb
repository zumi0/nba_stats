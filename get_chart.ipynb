{
 "cells": [
  {
   "cell_type": "code",
   "execution_count": 1,
   "metadata": {},
   "outputs": [],
   "source": [
    "%matplotlib inline\n",
    "import sys\n",
    "import json\n",
    "import pandas as pd\n",
    "import matplotlib.pyplot as plt\n",
    "#from draw_court import DRAW_COURT\n",
    "from nba_api.stats.static import players\n",
    "from nba_api.stats.endpoints import commonplayerinfo, shotchartdetail"
   ]
  },
  {
   "cell_type": "code",
   "execution_count": 2,
   "metadata": {},
   "outputs": [],
   "source": [
    "def SEARCH_PLAYERS(name):\n",
    "    data = players.find_players_by_full_name(name)\n",
    "    player_id = data[0]['id']\n",
    "    return player_id"
   ]
  },
  {
   "cell_type": "code",
   "execution_count": 3,
   "metadata": {},
   "outputs": [],
   "source": [
    "def SEARCH_PLAYER_TEAM(id):\n",
    "    res = json.loads(commonplayerinfo.CommonPlayerInfo(player_id=id).get_json())\n",
    "    headers = res['resultSets'][0]['headers']\n",
    "    data = res['resultSets'][0]['rowSet']\n",
    "    df = pd.DataFrame(data, columns=headers)\n",
    "    team_id = df.at[0,'TEAM_ID']\n",
    "    return team_id"
   ]
  },
  {
   "cell_type": "code",
   "execution_count": 4,
   "metadata": {},
   "outputs": [],
   "source": [
    "def MAKE_SEASON(num):\n",
    "    season_start = int(str(num) + '1001')\n",
    "    season_end = int(str(num + 1) + '0930')\n",
    "    return [season_start, season_end]"
   ]
  },
  {
   "cell_type": "code",
   "execution_count": 5,
   "metadata": {},
   "outputs": [],
   "source": [
    "def GET_CHART(player_id, season):\n",
    "    res = json.loads(shotchartdetail.ShotChartDetail(team_id=0, player_id=player_id).get_json())\n",
    "    headers = res['resultSets'][0]['headers']\n",
    "    data = res['resultSets'][0]['rowSet']\n",
    "    df = pd.DataFrame(data, columns=headers)\n",
    "    # str -> int\n",
    "    df['GAME_DATE'] = df['GAME_DATE'].map(int)\n",
    "    start = MAKE_SEASON(season)[0]\n",
    "    end = MAKE_SEASON(season)[1]\n",
    "    df = df[(df['GAME_DATE'] > start) & (df['GAME_DATE'] < end)]\n",
    "    made = df[df.SHOT_MADE_FLAG == 1]\n",
    "    #miss = df[df.SHOT_MADE_FLAG == 0]\n",
    "    plt.figure(figsize=(12,11))\n",
    "    plt.scatter(made.LOC_X, made.LOC_Y,c=\"blue\")\n",
    "    #plt.scatter(miss.LOC_X, miss.LOC_Y,c=\"red\")\n",
    "    #DRAW_COURT(outer_lines=True)\n",
    "    plt.xlim(-250,250)\n",
    "    plt.ylim(422.5, -47.5)\n",
    "    plt.show()"
   ]
  },
  {
   "cell_type": "code",
   "execution_count": 11,
   "metadata": {},
   "outputs": [
    {
     "data": {
      "text/plain": [
       "201939"
      ]
     },
     "execution_count": 11,
     "metadata": {},
     "output_type": "execute_result"
    }
   ],
   "source": [
    "name = 'stephen curry'\n",
    "player_id = SEARCH_PLAYERS(name)\n",
    "player_id"
   ]
  },
  {
   "cell_type": "code",
   "execution_count": 13,
   "metadata": {},
   "outputs": [
    {
     "data": {
      "image/png": "[encoded data removed]",
      "text/plain": [
       "<Figure size 864x792 with 1 Axes>"
      ]
     },
     "metadata": {
      "needs_background": "light"
     },
     "output_type": "display_data"
    }
   ],
   "source": [
    "season = 2017\n",
    "GET_CHART(player_id, season)"
   ]
  },
  {
   "cell_type": "code",
   "execution_count": null,
   "metadata": {},
   "outputs": [],
   "source": []
  }
 ],
 "metadata": {
  "kernelspec": {
   "display_name": "Python 3",
   "language": "python",
   "name": "python3"
  },
  "language_info": {
   "codemirror_mode": {
    "name": "ipython",
    "version": 3
   },
   "file_extension": ".py",
   "mimetype": "text/x-python",
   "name": "python",
   "nbconvert_exporter": "python",
   "pygments_lexer": "ipython3",
   "version": "3.7.3"
  }
 },
 "nbformat": 4,
 "nbformat_minor": 2
}
